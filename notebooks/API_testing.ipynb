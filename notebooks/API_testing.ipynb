{
 "cells": [
  {
   "cell_type": "markdown",
   "metadata": {},
   "source": [
    "<h1><center>API EVALUATION</center></h1>"
   ]
  },
  {
   "cell_type": "markdown",
   "metadata": {},
   "source": [
    "# 1. Introduction"
   ]
  },
  {
   "cell_type": "markdown",
   "metadata": {},
   "source": [
    "## Goal\n",
    "The goal is to test the accuracy of various Face detection web APIs which offer, among other features, emotion recognition."
   ]
  },
  {
   "cell_type": "markdown",
   "metadata": {},
   "source": [
    "## Method/Introduction\n",
    "The web APIs were chosen considering the ones which offered a free plan or free trial.\n",
    "\n",
    "The programming language used is `Python`. The solutions which offered SDKs which leveraged different programming languages were not considered in this study, as well as the others which did not provide any interface at all to communicate with.\n",
    "\n",
    "A script is used to send in parallel the whole image set to the various APIs. The raw `json` result and the computed emotions are then stored locally respectively in separate `.json` and `.csv` files for further processing. \n",
    "Single snippets have then be created to test both single pictures and the whole image set in order to investigate and compare their accuracy."
   ]
  },
  {
   "cell_type": "markdown",
   "metadata": {},
   "source": [
    "## APIs used\n",
    "The APIs that have been tested are:\n",
    "\n",
    "**[Amazon Rekognition](https://aws.amazon.com/rekognition/)**<br/>\n",
    "The detected emotions are `HAPPY | SAD | ANGRY | CONFUSED | DISGUSTED | SURPRISED | CALM | UNKNOWN` and they are associated with a confidence level `[0, 100]`. Only a subset of the previously metioned emotions are returned for each request.\n",
    "\n",
    "Following are some useful links:\n",
    "* [api](http://docs.aws.amazon.com/rekognition/latest/dg/faces.html)\n",
    "* [code sample](http://docs.aws.amazon.com/rekognition/latest/dg/get-started-exercise.html)\n",
    "* [boto python aws sdk](https://github.com/boto/boto3)\n",
    "* [emotion param](http://docs.aws.amazon.com/rekognition/latest/dg/API_Emotion.html)\n",
    "\n",
    "**[Google Cloud Vision](https://cloud.google.com/vision/)**<br/>\n",
    "The detected emotions are `joy, sorrow, anger, surprise` and they are associated with a confidence level `UNKNOWN, VERY_UNLIKELY, UNLIKELY, POSSIBLE, LIKELY, VERY_LIKELY`.\n",
    "\n",
    "**[Microsoft Azure Emotion](https://azure.microsoft.com/en-us/services/cognitive-services/emotion/)**<br/>\n",
    "The detected emotions are `neutral, fear, contempt, disgust, happiness, sadness, surprise` and they are associated with a confidence level `[0,1]`.\n",
    "\n",
    "**[Face++](https://www.faceplusplus.com)**<br/>\n",
    "The detected emotions are `fear, anger, neutral, disgust, surprise, happiness` and they are associated with a confidence level `[0, 100]`.\n",
    "\n",
    "**[Kairos](http://kairos.com/)**<br/>\n",
    "The detected emotions are `anger, disgust, fear, joy, sadness, surprise` and they are associated with a confidence level `[0, 100]`.\n",
    "\n",
    "As it appears, not all the APIs are consistent in the emotions detected. To ensure a comparison between the various APIs the output has been uniformed to the following set of emotions: `anger, disgust, fear, joy, neutral, sadness, surprise` associated with a confidence level `[0, 100]`\n",
    "\n",
    "It is also important to note that the emotions are only a subset of the information retrived from the API. Other features such as facial landmarks, age estimation etc.. may be available."
   ]
  },
  {
   "cell_type": "markdown",
   "metadata": {},
   "source": [
    "## Dataset used\n",
    "The dataset used is the [Cohn-Kanade CK+ dataset](http://www.consortium.ri.cmu.edu/ckagree/) which comprises 6xx pictures, labeled with both _Action Units_ and emotions.\n",
    "\n",
    "The emotions provided are as follow:\n",
    "```json\n",
    "{ 0:'neutral', 1:'anger', 2:'contempt', 3:'disgust', 4:'fear', 5:'happy', 6:'sadness', 7:'surprise' }\n",
    "```\n",
    "\n",
    "Since _contempt_ and _disgust_ convey the same facial expression and are difficult to distinguish even by a person, they will be considered as a unique emotion.\n",
    "So the labeled emotions will be\n",
    "```json\n",
    "['neutral', 'anger', 'disgust', 'fear', 'happy', 'sadness', 'surprise']\n",
    "```"
   ]
  },
  {
   "cell_type": "markdown",
   "metadata": {},
   "source": [
    "## Results\n",
    "...."
   ]
  },
  {
   "cell_type": "markdown",
   "metadata": {},
   "source": [
    "# 2. Code & development"
   ]
  },
  {
   "cell_type": "markdown",
   "metadata": {},
   "source": [
    "## Selecting the images\n",
    "While the CK+ dataset is composed of images sequence, only the last one, namely the one expressing the highest intensity for the respective emotion was chosen to be sent to each API. This decision was made because the labels are referred to the last image of the sequence and thus it's the most representative."
   ]
  },
  {
   "cell_type": "markdown",
   "metadata": {},
   "source": [
    "## Sending the images to the APIs\n",
    "The process of sending the images to each API listed above is taken care by the `api_query.py` script which leverages `multiprocessing` and `aiohttp` for sending parallel requests and optimize the time needed to complete the requests.\n",
    "\n",
    "Each API handler has been specifically tuned to the limits imposed by the free account usage of each.\n",
    "\n",
    "To avoid cluttering the space of this notebook with commented code, the scripts are available below, as attachments:\n",
    "* [/scripts/api_query.py](../api_query.py) - Handles the main API communication\n",
    "* [/scripts/api_structure.py](../api_structure.py) - Keeps the information and the response structure of each API\n",
    "* [/scripts/api_keys.py](../api_keys.py) - Stores the private keys of each API\n",
    "\n",
    "The response of each API is standardized and stores the confidence of the following set of emotions `['neutral', 'anger', 'disgust', 'fear', 'happy', 'sadness', 'surprise']`. The values are stored in the `o_csv/out.csv` file and each response from the api is stored in multiple `o_json/*.json` files."
   ]
  },
  {
   "cell_type": "markdown",
   "metadata": {},
   "source": [
    "## Analizing the results"
   ]
  },
  {
   "cell_type": "code",
   "execution_count": 1,
   "metadata": {
    "collapsed": true
   },
   "outputs": [],
   "source": [
    "import pandas as pd\n",
    "import matplotlib.pyplot as plt\n",
    "from math import pi\n",
    "import numpy as np\n",
    "import seaborn as sns"
   ]
  },
  {
   "cell_type": "code",
   "execution_count": 2,
   "metadata": {
    "collapsed": true
   },
   "outputs": [],
   "source": [
    "%matplotlib inline"
   ]
  },
  {
   "cell_type": "code",
   "execution_count": 3,
   "metadata": {
    "collapsed": true
   },
   "outputs": [],
   "source": [
    "df = pd.read_csv('../o_csv/out.csv', sep=',', index_col='id')"
   ]
  },
  {
   "cell_type": "code",
   "execution_count": 56,
   "metadata": {},
   "outputs": [
    {
     "data": {
      "text/html": [
       "<div>\n",
       "<style>\n",
       "    .dataframe thead tr:only-child th {\n",
       "        text-align: right;\n",
       "    }\n",
       "\n",
       "    .dataframe thead th {\n",
       "        text-align: left;\n",
       "    }\n",
       "\n",
       "    .dataframe tbody tr th {\n",
       "        vertical-align: top;\n",
       "    }\n",
       "</style>\n",
       "<table border=\"1\" class=\"dataframe\">\n",
       "  <thead>\n",
       "    <tr style=\"text-align: right;\">\n",
       "      <th></th>\n",
       "      <th>img_name</th>\n",
       "      <th>source</th>\n",
       "      <th>anger</th>\n",
       "      <th>disgust</th>\n",
       "      <th>fear</th>\n",
       "      <th>joy</th>\n",
       "      <th>neutral</th>\n",
       "      <th>sadness</th>\n",
       "      <th>surprise</th>\n",
       "    </tr>\n",
       "    <tr>\n",
       "      <th>id</th>\n",
       "      <th></th>\n",
       "      <th></th>\n",
       "      <th></th>\n",
       "      <th></th>\n",
       "      <th></th>\n",
       "      <th></th>\n",
       "      <th></th>\n",
       "      <th></th>\n",
       "      <th></th>\n",
       "    </tr>\n",
       "  </thead>\n",
       "  <tbody>\n",
       "    <tr>\n",
       "      <th>S087_004_00000012_amazon</th>\n",
       "      <td>S087_004_00000012</td>\n",
       "      <td>amazon</td>\n",
       "      <td>32.352417</td>\n",
       "      <td>3.082138</td>\n",
       "      <td>0.0</td>\n",
       "      <td>0.000000</td>\n",
       "      <td>0.0</td>\n",
       "      <td>3.132832</td>\n",
       "      <td>0.0</td>\n",
       "    </tr>\n",
       "    <tr>\n",
       "      <th>S138_008_00000009_amazon</th>\n",
       "      <td>S138_008_00000009</td>\n",
       "      <td>amazon</td>\n",
       "      <td>0.000000</td>\n",
       "      <td>0.000000</td>\n",
       "      <td>0.0</td>\n",
       "      <td>67.143562</td>\n",
       "      <td>0.0</td>\n",
       "      <td>42.504555</td>\n",
       "      <td>0.0</td>\n",
       "    </tr>\n",
       "    <tr>\n",
       "      <th>S050_006_00000023_amazon</th>\n",
       "      <td>S050_006_00000023</td>\n",
       "      <td>amazon</td>\n",
       "      <td>0.000000</td>\n",
       "      <td>0.000000</td>\n",
       "      <td>0.0</td>\n",
       "      <td>99.953857</td>\n",
       "      <td>0.0</td>\n",
       "      <td>0.000000</td>\n",
       "      <td>0.0</td>\n",
       "    </tr>\n",
       "    <tr>\n",
       "      <th>S060_002_00000026_amazon</th>\n",
       "      <td>S060_002_00000026</td>\n",
       "      <td>amazon</td>\n",
       "      <td>0.000000</td>\n",
       "      <td>0.000000</td>\n",
       "      <td>0.0</td>\n",
       "      <td>98.946846</td>\n",
       "      <td>0.0</td>\n",
       "      <td>0.000000</td>\n",
       "      <td>0.0</td>\n",
       "    </tr>\n",
       "    <tr>\n",
       "      <th>S151_002_00000029_amazon</th>\n",
       "      <td>S151_002_00000029</td>\n",
       "      <td>amazon</td>\n",
       "      <td>0.000000</td>\n",
       "      <td>0.000000</td>\n",
       "      <td>0.0</td>\n",
       "      <td>96.703247</td>\n",
       "      <td>0.0</td>\n",
       "      <td>0.000000</td>\n",
       "      <td>0.0</td>\n",
       "    </tr>\n",
       "  </tbody>\n",
       "</table>\n",
       "</div>"
      ],
      "text/plain": [
       "                                   img_name  source      anger   disgust  \\\n",
       "id                                                                         \n",
       "S087_004_00000012_amazon  S087_004_00000012  amazon  32.352417  3.082138   \n",
       "S138_008_00000009_amazon  S138_008_00000009  amazon   0.000000  0.000000   \n",
       "S050_006_00000023_amazon  S050_006_00000023  amazon   0.000000  0.000000   \n",
       "S060_002_00000026_amazon  S060_002_00000026  amazon   0.000000  0.000000   \n",
       "S151_002_00000029_amazon  S151_002_00000029  amazon   0.000000  0.000000   \n",
       "\n",
       "                          fear        joy  neutral    sadness  surprise  \n",
       "id                                                                       \n",
       "S087_004_00000012_amazon   0.0   0.000000      0.0   3.132832       0.0  \n",
       "S138_008_00000009_amazon   0.0  67.143562      0.0  42.504555       0.0  \n",
       "S050_006_00000023_amazon   0.0  99.953857      0.0   0.000000       0.0  \n",
       "S060_002_00000026_amazon   0.0  98.946846      0.0   0.000000       0.0  \n",
       "S151_002_00000029_amazon   0.0  96.703247      0.0   0.000000       0.0  "
      ]
     },
     "execution_count": 56,
     "metadata": {},
     "output_type": "execute_result"
    }
   ],
   "source": [
    "df.head()\n",
    "# amazon.head()"
   ]
  },
  {
   "cell_type": "markdown",
   "metadata": {},
   "source": [
    "## ANALYZE THE OUTPUT OF A SINGLE IMAGE"
   ]
  },
  {
   "cell_type": "code",
   "execution_count": 12,
   "metadata": {},
   "outputs": [
    {
     "data": {
      "text/plain": [
       "<Container object of 7 artists>"
      ]
     },
     "execution_count": 12,
     "metadata": {},
     "output_type": "execute_result"
    },
    {
     "data": {
      "image/png": "[encoded data removed]",
      "text/plain": [
       "<matplotlib.figure.Figure at 0xe705750400>"
      ]
     },
     "metadata": {},
     "output_type": "display_data"
    }
   ],
   "source": [
    "single_image = df.iloc[0, 2:]\n",
    "plt.bar(single_image.index, single_image)"
   ]
  },
  {
   "cell_type": "code",
   "execution_count": 13,
   "metadata": {},
   "outputs": [
    {
     "name": "stderr",
     "output_type": "stream",
     "text": [
      "C:\\Users\\dask\\Anaconda3\\lib\\site-packages\\ipykernel_launcher.py:4: SettingWithCopyWarning: \n",
      "A value is trying to be set on a copy of a slice from a DataFrame\n",
      "\n",
      "See the caveats in the documentation: http://pandas.pydata.org/pandas-docs/stable/indexing.html#indexing-view-versus-copy\n",
      "  after removing the cwd from sys.path.\n"
     ]
    },
    {
     "data": {
      "text/html": [
       "<div>\n",
       "<style>\n",
       "    .dataframe thead tr:only-child th {\n",
       "        text-align: right;\n",
       "    }\n",
       "\n",
       "    .dataframe thead th {\n",
       "        text-align: left;\n",
       "    }\n",
       "\n",
       "    .dataframe tbody tr th {\n",
       "        vertical-align: top;\n",
       "    }\n",
       "</style>\n",
       "<table border=\"1\" class=\"dataframe\">\n",
       "  <thead>\n",
       "    <tr style=\"text-align: right;\">\n",
       "      <th></th>\n",
       "      <th>source</th>\n",
       "      <th>anger</th>\n",
       "      <th>disgust</th>\n",
       "      <th>fear</th>\n",
       "      <th>joy</th>\n",
       "      <th>neutral</th>\n",
       "      <th>sadness</th>\n",
       "      <th>surprise</th>\n",
       "    </tr>\n",
       "    <tr>\n",
       "      <th>id</th>\n",
       "      <th></th>\n",
       "      <th></th>\n",
       "      <th></th>\n",
       "      <th></th>\n",
       "      <th></th>\n",
       "      <th></th>\n",
       "      <th></th>\n",
       "      <th></th>\n",
       "    </tr>\n",
       "  </thead>\n",
       "  <tbody>\n",
       "    <tr>\n",
       "      <th>S087_004_00000012_amazon</th>\n",
       "      <td>amazon</td>\n",
       "      <td>32.352417</td>\n",
       "      <td>3.082138</td>\n",
       "      <td>0.000000</td>\n",
       "      <td>0.000000</td>\n",
       "      <td>0.000000</td>\n",
       "      <td>3.132832</td>\n",
       "      <td>0.000000</td>\n",
       "    </tr>\n",
       "    <tr>\n",
       "      <th>S087_004_00000012_azure</th>\n",
       "      <td>azure</td>\n",
       "      <td>27.888310</td>\n",
       "      <td>65.839580</td>\n",
       "      <td>0.000224</td>\n",
       "      <td>0.000036</td>\n",
       "      <td>4.369273</td>\n",
       "      <td>0.192096</td>\n",
       "      <td>0.046082</td>\n",
       "    </tr>\n",
       "  </tbody>\n",
       "</table>\n",
       "</div>"
      ],
      "text/plain": [
       "                          source      anger    disgust      fear       joy  \\\n",
       "id                                                                           \n",
       "S087_004_00000012_amazon  amazon  32.352417   3.082138  0.000000  0.000000   \n",
       "S087_004_00000012_azure    azure  27.888310  65.839580  0.000224  0.000036   \n",
       "\n",
       "                           neutral   sadness  surprise  \n",
       "id                                                      \n",
       "S087_004_00000012_amazon  0.000000  3.132832  0.000000  \n",
       "S087_004_00000012_azure   4.369273  0.192096  0.046082  "
      ]
     },
     "execution_count": 13,
     "metadata": {},
     "output_type": "execute_result"
    }
   ],
   "source": [
    "# stacked barplot per mostrare, per ogni api, le emozioni piu' importanti\n",
    "# per l'immagine sad devo fare la normalizzazione\n",
    "sad = df.loc[df['img_name'] == 'S087_004_00000012']\n",
    "sad.drop('img_name', axis=1, inplace=True)\n",
    "sad"
   ]
  },
  {
   "cell_type": "code",
   "execution_count": 14,
   "metadata": {},
   "outputs": [
    {
     "data": {
      "text/html": [
       "<div>\n",
       "<style>\n",
       "    .dataframe thead tr:only-child th {\n",
       "        text-align: right;\n",
       "    }\n",
       "\n",
       "    .dataframe thead th {\n",
       "        text-align: left;\n",
       "    }\n",
       "\n",
       "    .dataframe tbody tr th {\n",
       "        vertical-align: top;\n",
       "    }\n",
       "</style>\n",
       "<table border=\"1\" class=\"dataframe\">\n",
       "  <thead>\n",
       "    <tr style=\"text-align: right;\">\n",
       "      <th></th>\n",
       "      <th>anger</th>\n",
       "      <th>disgust</th>\n",
       "      <th>fear</th>\n",
       "      <th>joy</th>\n",
       "      <th>neutral</th>\n",
       "      <th>sadness</th>\n",
       "      <th>surprise</th>\n",
       "    </tr>\n",
       "    <tr>\n",
       "      <th>id</th>\n",
       "      <th></th>\n",
       "      <th></th>\n",
       "      <th></th>\n",
       "      <th></th>\n",
       "      <th></th>\n",
       "      <th></th>\n",
       "      <th></th>\n",
       "    </tr>\n",
       "  </thead>\n",
       "  <tbody>\n",
       "    <tr>\n",
       "      <th>S087_004_00000012_amazon</th>\n",
       "      <td>32.352417</td>\n",
       "      <td>3.082138</td>\n",
       "      <td>0.000000</td>\n",
       "      <td>0.000000</td>\n",
       "      <td>0.000000</td>\n",
       "      <td>3.132832</td>\n",
       "      <td>0.000000</td>\n",
       "    </tr>\n",
       "    <tr>\n",
       "      <th>S087_004_00000012_azure</th>\n",
       "      <td>27.888310</td>\n",
       "      <td>65.839580</td>\n",
       "      <td>0.000224</td>\n",
       "      <td>0.000036</td>\n",
       "      <td>4.369273</td>\n",
       "      <td>0.192096</td>\n",
       "      <td>0.046082</td>\n",
       "    </tr>\n",
       "  </tbody>\n",
       "</table>\n",
       "</div>"
      ],
      "text/plain": [
       "                              anger    disgust      fear       joy   neutral  \\\n",
       "id                                                                             \n",
       "S087_004_00000012_amazon  32.352417   3.082138  0.000000  0.000000  0.000000   \n",
       "S087_004_00000012_azure   27.888310  65.839580  0.000224  0.000036  4.369273   \n",
       "\n",
       "                           sadness  surprise  \n",
       "id                                            \n",
       "S087_004_00000012_amazon  3.132832  0.000000  \n",
       "S087_004_00000012_azure   0.192096  0.046082  "
      ]
     },
     "execution_count": 14,
     "metadata": {},
     "output_type": "execute_result"
    }
   ],
   "source": [
    "sad.iloc[:, 1:]"
   ]
  },
  {
   "cell_type": "code",
   "execution_count": 15,
   "metadata": {},
   "outputs": [
    {
     "data": {
      "text/plain": [
       "array([32.3524169921875, 3.0821382999420166, 0.0, 0.0, 0.0,\n",
       "       3.1328320503234863, 0.0], dtype=object)"
      ]
     },
     "execution_count": 15,
     "metadata": {},
     "output_type": "execute_result"
    }
   ],
   "source": [
    "sad.iloc[0, 1:].values"
   ]
  },
  {
   "cell_type": "code",
   "execution_count": 16,
   "metadata": {},
   "outputs": [
    {
     "data": {
      "text/html": [
       "<div>\n",
       "<style>\n",
       "    .dataframe thead tr:only-child th {\n",
       "        text-align: right;\n",
       "    }\n",
       "\n",
       "    .dataframe thead th {\n",
       "        text-align: left;\n",
       "    }\n",
       "\n",
       "    .dataframe tbody tr th {\n",
       "        vertical-align: top;\n",
       "    }\n",
       "</style>\n",
       "<table border=\"1\" class=\"dataframe\">\n",
       "  <thead>\n",
       "    <tr style=\"text-align: right;\">\n",
       "      <th></th>\n",
       "      <th>anger</th>\n",
       "      <th>disgust</th>\n",
       "      <th>fear</th>\n",
       "      <th>joy</th>\n",
       "      <th>neutral</th>\n",
       "      <th>sadness</th>\n",
       "      <th>surprise</th>\n",
       "    </tr>\n",
       "    <tr>\n",
       "      <th>id</th>\n",
       "      <th></th>\n",
       "      <th></th>\n",
       "      <th></th>\n",
       "      <th></th>\n",
       "      <th></th>\n",
       "      <th></th>\n",
       "      <th></th>\n",
       "    </tr>\n",
       "  </thead>\n",
       "  <tbody>\n",
       "    <tr>\n",
       "      <th>S087_004_00000012_amazon</th>\n",
       "      <td>0.838854</td>\n",
       "      <td>0.079916</td>\n",
       "      <td>0.000000</td>\n",
       "      <td>0.000000e+00</td>\n",
       "      <td>0.000000</td>\n",
       "      <td>0.081230</td>\n",
       "      <td>0.000000</td>\n",
       "    </tr>\n",
       "    <tr>\n",
       "      <th>S087_004_00000012_azure</th>\n",
       "      <td>0.283603</td>\n",
       "      <td>0.669540</td>\n",
       "      <td>0.000002</td>\n",
       "      <td>3.655844e-07</td>\n",
       "      <td>0.044432</td>\n",
       "      <td>0.001953</td>\n",
       "      <td>0.000469</td>\n",
       "    </tr>\n",
       "  </tbody>\n",
       "</table>\n",
       "</div>"
      ],
      "text/plain": [
       "                             anger   disgust      fear           joy  \\\n",
       "id                                                                     \n",
       "S087_004_00000012_amazon  0.838854  0.079916  0.000000  0.000000e+00   \n",
       "S087_004_00000012_azure   0.283603  0.669540  0.000002  3.655844e-07   \n",
       "\n",
       "                           neutral   sadness  surprise  \n",
       "id                                                      \n",
       "S087_004_00000012_amazon  0.000000  0.081230  0.000000  \n",
       "S087_004_00000012_azure   0.044432  0.001953  0.000469  "
      ]
     },
     "execution_count": 16,
     "metadata": {},
     "output_type": "execute_result"
    }
   ],
   "source": [
    "def normalize(x):\n",
    "    return x/x.sum()\n",
    "\n",
    "a = sad.iloc[:, 1:].apply(normalize, axis=1)\n",
    "a.head()"
   ]
  },
  {
   "cell_type": "code",
   "execution_count": 62,
   "metadata": {},
   "outputs": [
    {
     "data": {
      "text/plain": [
       "7"
      ]
     },
     "execution_count": 62,
     "metadata": {},
     "output_type": "execute_result"
    }
   ],
   "source": [
    "a.shape[1]"
   ]
  },
  {
   "cell_type": "code",
   "execution_count": 50,
   "metadata": {},
   "outputs": [],
   "source": [
    "sns.set_palette('Set2', n_colors=10)"
   ]
  },
  {
   "cell_type": "code",
   "execution_count": 51,
   "metadata": {},
   "outputs": [
    {
     "data": {
      "image/png": "[encoded data removed]",
      "text/plain": [
       "<matplotlib.figure.Figure at 0xe70641c5c0>"
      ]
     },
     "metadata": {},
     "output_type": "display_data"
    }
   ],
   "source": [
    "alfa = 0.3\n",
    "np.random.seed(7)\n",
    "colors = np.random.rand(7, 4)\n",
    "colors[: ,3] = alfa\n",
    "\n",
    "sum = [0]*a.shape[0]\n",
    "b = []\n",
    "for i, e in enumerate(a.columns):\n",
    "    temp = plt.bar(a.index, a.iloc[:, i], 0.85, bottom=sum)\n",
    "    b.append(temp)\n",
    "    sum += a.iloc[:, i]\n",
    "plt.legend(b, a.columns, loc=2, bbox_to_anchor=(1.05, 1), borderaxespad=0.)\n",
    "plt.grid(True)"
   ]
  },
  {
   "cell_type": "markdown",
   "metadata": {},
   "source": [
    "# COMPARE OUTPUTS"
   ]
  },
  {
   "cell_type": "code",
   "execution_count": 179,
   "metadata": {},
   "outputs": [
    {
     "data": {
      "text/html": [
       "<div>\n",
       "<style>\n",
       "    .dataframe thead tr:only-child th {\n",
       "        text-align: right;\n",
       "    }\n",
       "\n",
       "    .dataframe thead th {\n",
       "        text-align: left;\n",
       "    }\n",
       "\n",
       "    .dataframe tbody tr th {\n",
       "        vertical-align: top;\n",
       "    }\n",
       "</style>\n",
       "<table border=\"1\" class=\"dataframe\">\n",
       "  <thead>\n",
       "    <tr style=\"text-align: right;\">\n",
       "      <th></th>\n",
       "      <th>img_name</th>\n",
       "      <th>source</th>\n",
       "      <th>anger</th>\n",
       "      <th>disgust</th>\n",
       "      <th>fear</th>\n",
       "      <th>joy</th>\n",
       "      <th>neutral</th>\n",
       "      <th>sadness</th>\n",
       "      <th>surprise</th>\n",
       "    </tr>\n",
       "    <tr>\n",
       "      <th>id</th>\n",
       "      <th></th>\n",
       "      <th></th>\n",
       "      <th></th>\n",
       "      <th></th>\n",
       "      <th></th>\n",
       "      <th></th>\n",
       "      <th></th>\n",
       "      <th></th>\n",
       "      <th></th>\n",
       "    </tr>\n",
       "  </thead>\n",
       "  <tbody>\n",
       "    <tr>\n",
       "      <th>S087_004_00000012_amazon</th>\n",
       "      <td>S087_004_00000012</td>\n",
       "      <td>amazon</td>\n",
       "      <td>32.352417</td>\n",
       "      <td>3.082138</td>\n",
       "      <td>0.0</td>\n",
       "      <td>0.000000</td>\n",
       "      <td>0.0</td>\n",
       "      <td>3.132832</td>\n",
       "      <td>0.0</td>\n",
       "    </tr>\n",
       "    <tr>\n",
       "      <th>S138_008_00000009_amazon</th>\n",
       "      <td>S138_008_00000009</td>\n",
       "      <td>amazon</td>\n",
       "      <td>0.000000</td>\n",
       "      <td>0.000000</td>\n",
       "      <td>0.0</td>\n",
       "      <td>67.143562</td>\n",
       "      <td>0.0</td>\n",
       "      <td>42.504555</td>\n",
       "      <td>0.0</td>\n",
       "    </tr>\n",
       "    <tr>\n",
       "      <th>S050_006_00000023_amazon</th>\n",
       "      <td>S050_006_00000023</td>\n",
       "      <td>amazon</td>\n",
       "      <td>0.000000</td>\n",
       "      <td>0.000000</td>\n",
       "      <td>0.0</td>\n",
       "      <td>99.953857</td>\n",
       "      <td>0.0</td>\n",
       "      <td>0.000000</td>\n",
       "      <td>0.0</td>\n",
       "    </tr>\n",
       "    <tr>\n",
       "      <th>S060_002_00000026_amazon</th>\n",
       "      <td>S060_002_00000026</td>\n",
       "      <td>amazon</td>\n",
       "      <td>0.000000</td>\n",
       "      <td>0.000000</td>\n",
       "      <td>0.0</td>\n",
       "      <td>98.946846</td>\n",
       "      <td>0.0</td>\n",
       "      <td>0.000000</td>\n",
       "      <td>0.0</td>\n",
       "    </tr>\n",
       "    <tr>\n",
       "      <th>S151_002_00000029_amazon</th>\n",
       "      <td>S151_002_00000029</td>\n",
       "      <td>amazon</td>\n",
       "      <td>0.000000</td>\n",
       "      <td>0.000000</td>\n",
       "      <td>0.0</td>\n",
       "      <td>96.703247</td>\n",
       "      <td>0.0</td>\n",
       "      <td>0.000000</td>\n",
       "      <td>0.0</td>\n",
       "    </tr>\n",
       "  </tbody>\n",
       "</table>\n",
       "</div>"
      ],
      "text/plain": [
       "                                   img_name  source      anger   disgust  \\\n",
       "id                                                                         \n",
       "S087_004_00000012_amazon  S087_004_00000012  amazon  32.352417  3.082138   \n",
       "S138_008_00000009_amazon  S138_008_00000009  amazon   0.000000  0.000000   \n",
       "S050_006_00000023_amazon  S050_006_00000023  amazon   0.000000  0.000000   \n",
       "S060_002_00000026_amazon  S060_002_00000026  amazon   0.000000  0.000000   \n",
       "S151_002_00000029_amazon  S151_002_00000029  amazon   0.000000  0.000000   \n",
       "\n",
       "                          fear        joy  neutral    sadness  surprise  \n",
       "id                                                                       \n",
       "S087_004_00000012_amazon   0.0   0.000000      0.0   3.132832       0.0  \n",
       "S138_008_00000009_amazon   0.0  67.143562      0.0  42.504555       0.0  \n",
       "S050_006_00000023_amazon   0.0  99.953857      0.0   0.000000       0.0  \n",
       "S060_002_00000026_amazon   0.0  98.946846      0.0   0.000000       0.0  \n",
       "S151_002_00000029_amazon   0.0  96.703247      0.0   0.000000       0.0  "
      ]
     },
     "execution_count": 179,
     "metadata": {},
     "output_type": "execute_result"
    }
   ],
   "source": [
    "# compare all api outputs with real value to see accuracy\n",
    "out = pd.read_csv('../o_csv/out.csv', sep=',', index_col='id')\n",
    "# out = pd.read_csv('../o_csv/out.csv', sep=',')\n",
    "out.head()"
   ]
  },
  {
   "cell_type": "code",
   "execution_count": 181,
   "metadata": {},
   "outputs": [
    {
     "data": {
      "text/html": [
       "<div>\n",
       "<style>\n",
       "    .dataframe thead tr:only-child th {\n",
       "        text-align: right;\n",
       "    }\n",
       "\n",
       "    .dataframe thead th {\n",
       "        text-align: left;\n",
       "    }\n",
       "\n",
       "    .dataframe tbody tr th {\n",
       "        vertical-align: top;\n",
       "    }\n",
       "</style>\n",
       "<table border=\"1\" class=\"dataframe\">\n",
       "  <thead>\n",
       "    <tr style=\"text-align: right;\">\n",
       "      <th></th>\n",
       "      <th>emotion</th>\n",
       "    </tr>\n",
       "    <tr>\n",
       "      <th>img_name</th>\n",
       "      <th></th>\n",
       "    </tr>\n",
       "  </thead>\n",
       "  <tbody>\n",
       "    <tr>\n",
       "      <th>S999_003_00000055</th>\n",
       "      <td>4</td>\n",
       "    </tr>\n",
       "    <tr>\n",
       "      <th>S087_004_00000012</th>\n",
       "      <td>3</td>\n",
       "    </tr>\n",
       "    <tr>\n",
       "      <th>S060_002_00000026</th>\n",
       "      <td>5</td>\n",
       "    </tr>\n",
       "    <tr>\n",
       "      <th>S138_008_00000009</th>\n",
       "      <td>2</td>\n",
       "    </tr>\n",
       "    <tr>\n",
       "      <th>S151_002_00000029</th>\n",
       "      <td>2</td>\n",
       "    </tr>\n",
       "  </tbody>\n",
       "</table>\n",
       "</div>"
      ],
      "text/plain": [
       "                   emotion\n",
       "img_name                  \n",
       "S999_003_00000055        4\n",
       "S087_004_00000012        3\n",
       "S060_002_00000026        5\n",
       "S138_008_00000009        2\n",
       "S151_002_00000029        2"
      ]
     },
     "execution_count": 181,
     "metadata": {},
     "output_type": "execute_result"
    }
   ],
   "source": [
    "# read labeled dataset keeping only useful columns\n",
    "label_df = pd.read_csv('./labeled_sample.csv', sep=',', index_col='img_name', usecols=['img_name', 'emotion'])\n",
    "# temp\n",
    "label_df.index = label_df.index.map(lambda x: x.strip(' '))\n",
    "label_df.head()"
   ]
  },
  {
   "cell_type": "code",
   "execution_count": 182,
   "metadata": {},
   "outputs": [
    {
     "data": {
      "text/html": [
       "<div>\n",
       "<style>\n",
       "    .dataframe thead tr:only-child th {\n",
       "        text-align: right;\n",
       "    }\n",
       "\n",
       "    .dataframe thead th {\n",
       "        text-align: left;\n",
       "    }\n",
       "\n",
       "    .dataframe tbody tr th {\n",
       "        vertical-align: top;\n",
       "    }\n",
       "</style>\n",
       "<table border=\"1\" class=\"dataframe\">\n",
       "  <thead>\n",
       "    <tr style=\"text-align: right;\">\n",
       "      <th></th>\n",
       "      <th>emotion</th>\n",
       "    </tr>\n",
       "    <tr>\n",
       "      <th>img_name</th>\n",
       "      <th></th>\n",
       "    </tr>\n",
       "  </thead>\n",
       "  <tbody>\n",
       "    <tr>\n",
       "      <th>S999_003_00000055</th>\n",
       "      <td>fear</td>\n",
       "    </tr>\n",
       "    <tr>\n",
       "      <th>S087_004_00000012</th>\n",
       "      <td>disgust</td>\n",
       "    </tr>\n",
       "    <tr>\n",
       "      <th>S060_002_00000026</th>\n",
       "      <td>joy</td>\n",
       "    </tr>\n",
       "    <tr>\n",
       "      <th>S138_008_00000009</th>\n",
       "      <td>joy</td>\n",
       "    </tr>\n",
       "    <tr>\n",
       "      <th>S151_002_00000029</th>\n",
       "      <td>joy</td>\n",
       "    </tr>\n",
       "  </tbody>\n",
       "</table>\n",
       "</div>"
      ],
      "text/plain": [
       "                   emotion\n",
       "img_name                  \n",
       "S999_003_00000055     fear\n",
       "S087_004_00000012  disgust\n",
       "S060_002_00000026      joy\n",
       "S138_008_00000009      joy\n",
       "S151_002_00000029      joy"
      ]
     },
     "execution_count": 182,
     "metadata": {},
     "output_type": "execute_result"
    }
   ],
   "source": [
    "# original\n",
    "# { 0:'neutral', 1:'anger', 2:'contempt', 3:'disgust', 4:'fear', 5:'happy', 6:'sadness', 7:'surprise' }\n",
    "emotion_conversion = {\n",
    "    0:'neutral',\n",
    "    1:'anger',\n",
    "    2:'joy',\n",
    "    3:'disgust',\n",
    "    4:'fear',\n",
    "    5:'joy',\n",
    "    6:'sadness',\n",
    "    7:'surprise'\n",
    "}\n",
    "label_df.emotion = label_df.emotion.apply(lambda x: emotion_conversion[x])\n",
    "label_df.head()"
   ]
  },
  {
   "cell_type": "code",
   "execution_count": 183,
   "metadata": {},
   "outputs": [
    {
     "data": {
      "text/html": [
       "<div>\n",
       "<style>\n",
       "    .dataframe thead tr:only-child th {\n",
       "        text-align: right;\n",
       "    }\n",
       "\n",
       "    .dataframe thead th {\n",
       "        text-align: left;\n",
       "    }\n",
       "\n",
       "    .dataframe tbody tr th {\n",
       "        vertical-align: top;\n",
       "    }\n",
       "</style>\n",
       "<table border=\"1\" class=\"dataframe\">\n",
       "  <thead>\n",
       "    <tr style=\"text-align: right;\">\n",
       "      <th></th>\n",
       "      <th>img_name</th>\n",
       "      <th>source</th>\n",
       "    </tr>\n",
       "    <tr>\n",
       "      <th>id</th>\n",
       "      <th></th>\n",
       "      <th></th>\n",
       "    </tr>\n",
       "  </thead>\n",
       "  <tbody>\n",
       "    <tr>\n",
       "      <th>S087_004_00000012_amazon</th>\n",
       "      <td>S087_004_00000012</td>\n",
       "      <td>amazon</td>\n",
       "    </tr>\n",
       "    <tr>\n",
       "      <th>S138_008_00000009_amazon</th>\n",
       "      <td>S138_008_00000009</td>\n",
       "      <td>amazon</td>\n",
       "    </tr>\n",
       "    <tr>\n",
       "      <th>S050_006_00000023_amazon</th>\n",
       "      <td>S050_006_00000023</td>\n",
       "      <td>amazon</td>\n",
       "    </tr>\n",
       "    <tr>\n",
       "      <th>S060_002_00000026_amazon</th>\n",
       "      <td>S060_002_00000026</td>\n",
       "      <td>amazon</td>\n",
       "    </tr>\n",
       "    <tr>\n",
       "      <th>S151_002_00000029_amazon</th>\n",
       "      <td>S151_002_00000029</td>\n",
       "      <td>amazon</td>\n",
       "    </tr>\n",
       "  </tbody>\n",
       "</table>\n",
       "</div>"
      ],
      "text/plain": [
       "                                   img_name  source\n",
       "id                                                 \n",
       "S087_004_00000012_amazon  S087_004_00000012  amazon\n",
       "S138_008_00000009_amazon  S138_008_00000009  amazon\n",
       "S050_006_00000023_amazon  S050_006_00000023  amazon\n",
       "S060_002_00000026_amazon  S060_002_00000026  amazon\n",
       "S151_002_00000029_amazon  S151_002_00000029  amazon"
      ]
     },
     "execution_count": 183,
     "metadata": {},
     "output_type": "execute_result"
    }
   ],
   "source": [
    "# create dataframe with only the emotion with the highest value and the real emotion\n",
    "compare_df = pd.DataFrame(columns=['img_name', 'source'], index=out.index)\n",
    "compare_df.img_name = out.img_name\n",
    "compare_df.source = out.source\n",
    "compare_df.head()"
   ]
  },
  {
   "cell_type": "code",
   "execution_count": 184,
   "metadata": {},
   "outputs": [
    {
     "data": {
      "text/html": [
       "<div>\n",
       "<style>\n",
       "    .dataframe thead tr:only-child th {\n",
       "        text-align: right;\n",
       "    }\n",
       "\n",
       "    .dataframe thead th {\n",
       "        text-align: left;\n",
       "    }\n",
       "\n",
       "    .dataframe tbody tr th {\n",
       "        vertical-align: top;\n",
       "    }\n",
       "</style>\n",
       "<table border=\"1\" class=\"dataframe\">\n",
       "  <thead>\n",
       "    <tr style=\"text-align: right;\">\n",
       "      <th></th>\n",
       "      <th>img_name</th>\n",
       "      <th>source</th>\n",
       "      <th>computed</th>\n",
       "      <th>confidence</th>\n",
       "    </tr>\n",
       "    <tr>\n",
       "      <th>id</th>\n",
       "      <th></th>\n",
       "      <th></th>\n",
       "      <th></th>\n",
       "      <th></th>\n",
       "    </tr>\n",
       "  </thead>\n",
       "  <tbody>\n",
       "    <tr>\n",
       "      <th>S087_004_00000012_amazon</th>\n",
       "      <td>S087_004_00000012</td>\n",
       "      <td>amazon</td>\n",
       "      <td>sadness</td>\n",
       "      <td>3.132832</td>\n",
       "    </tr>\n",
       "    <tr>\n",
       "      <th>S138_008_00000009_amazon</th>\n",
       "      <td>S138_008_00000009</td>\n",
       "      <td>amazon</td>\n",
       "      <td>joy</td>\n",
       "      <td>67.143562</td>\n",
       "    </tr>\n",
       "    <tr>\n",
       "      <th>S050_006_00000023_amazon</th>\n",
       "      <td>S050_006_00000023</td>\n",
       "      <td>amazon</td>\n",
       "      <td>joy</td>\n",
       "      <td>99.953857</td>\n",
       "    </tr>\n",
       "    <tr>\n",
       "      <th>S060_002_00000026_amazon</th>\n",
       "      <td>S060_002_00000026</td>\n",
       "      <td>amazon</td>\n",
       "      <td>joy</td>\n",
       "      <td>98.946846</td>\n",
       "    </tr>\n",
       "    <tr>\n",
       "      <th>S151_002_00000029_amazon</th>\n",
       "      <td>S151_002_00000029</td>\n",
       "      <td>amazon</td>\n",
       "      <td>joy</td>\n",
       "      <td>96.703247</td>\n",
       "    </tr>\n",
       "  </tbody>\n",
       "</table>\n",
       "</div>"
      ],
      "text/plain": [
       "                                   img_name  source computed  confidence\n",
       "id                                                                      \n",
       "S087_004_00000012_amazon  S087_004_00000012  amazon  sadness    3.132832\n",
       "S138_008_00000009_amazon  S138_008_00000009  amazon      joy   67.143562\n",
       "S050_006_00000023_amazon  S050_006_00000023  amazon      joy   99.953857\n",
       "S060_002_00000026_amazon  S060_002_00000026  amazon      joy   98.946846\n",
       "S151_002_00000029_amazon  S151_002_00000029  amazon      joy   96.703247"
      ]
     },
     "execution_count": 184,
     "metadata": {},
     "output_type": "execute_result"
    }
   ],
   "source": [
    "def find_index(x):\n",
    "    m = x.max()\n",
    "    i = x.tolist().index(m)\n",
    "    return x.index[i], m\n",
    "\n",
    "compare_df['computed'], compare_df['confidence'] = zip(*out.iloc[:, 3:].apply(find_index, axis=1))\n",
    "compare_df.head()"
   ]
  },
  {
   "cell_type": "code",
   "execution_count": 189,
   "metadata": {
    "scrolled": false
   },
   "outputs": [
    {
     "data": {
      "text/html": [
       "<div>\n",
       "<style>\n",
       "    .dataframe thead tr:only-child th {\n",
       "        text-align: right;\n",
       "    }\n",
       "\n",
       "    .dataframe thead th {\n",
       "        text-align: left;\n",
       "    }\n",
       "\n",
       "    .dataframe tbody tr th {\n",
       "        vertical-align: top;\n",
       "    }\n",
       "</style>\n",
       "<table border=\"1\" class=\"dataframe\">\n",
       "  <thead>\n",
       "    <tr style=\"text-align: right;\">\n",
       "      <th></th>\n",
       "      <th>img_name</th>\n",
       "      <th>source</th>\n",
       "      <th>computed</th>\n",
       "      <th>confidence</th>\n",
       "      <th>real</th>\n",
       "    </tr>\n",
       "    <tr>\n",
       "      <th>id</th>\n",
       "      <th></th>\n",
       "      <th></th>\n",
       "      <th></th>\n",
       "      <th></th>\n",
       "      <th></th>\n",
       "    </tr>\n",
       "  </thead>\n",
       "  <tbody>\n",
       "    <tr>\n",
       "      <th>S087_004_00000012_amazon</th>\n",
       "      <td>S087_004_00000012</td>\n",
       "      <td>amazon</td>\n",
       "      <td>sadness</td>\n",
       "      <td>3.132832</td>\n",
       "      <td>disgust</td>\n",
       "    </tr>\n",
       "    <tr>\n",
       "      <th>S138_008_00000009_amazon</th>\n",
       "      <td>S138_008_00000009</td>\n",
       "      <td>amazon</td>\n",
       "      <td>joy</td>\n",
       "      <td>67.143562</td>\n",
       "      <td>joy</td>\n",
       "    </tr>\n",
       "    <tr>\n",
       "      <th>S050_006_00000023_amazon</th>\n",
       "      <td>S050_006_00000023</td>\n",
       "      <td>amazon</td>\n",
       "      <td>joy</td>\n",
       "      <td>99.953857</td>\n",
       "      <td>joy</td>\n",
       "    </tr>\n",
       "    <tr>\n",
       "      <th>S060_002_00000026_amazon</th>\n",
       "      <td>S060_002_00000026</td>\n",
       "      <td>amazon</td>\n",
       "      <td>joy</td>\n",
       "      <td>98.946846</td>\n",
       "      <td>joy</td>\n",
       "    </tr>\n",
       "    <tr>\n",
       "      <th>S151_002_00000029_amazon</th>\n",
       "      <td>S151_002_00000029</td>\n",
       "      <td>amazon</td>\n",
       "      <td>joy</td>\n",
       "      <td>96.703247</td>\n",
       "      <td>joy</td>\n",
       "    </tr>\n",
       "  </tbody>\n",
       "</table>\n",
       "</div>"
      ],
      "text/plain": [
       "                                   img_name  source computed  confidence  \\\n",
       "id                                                                         \n",
       "S087_004_00000012_amazon  S087_004_00000012  amazon  sadness    3.132832   \n",
       "S138_008_00000009_amazon  S138_008_00000009  amazon      joy   67.143562   \n",
       "S050_006_00000023_amazon  S050_006_00000023  amazon      joy   99.953857   \n",
       "S060_002_00000026_amazon  S060_002_00000026  amazon      joy   98.946846   \n",
       "S151_002_00000029_amazon  S151_002_00000029  amazon      joy   96.703247   \n",
       "\n",
       "                             real  \n",
       "id                                 \n",
       "S087_004_00000012_amazon  disgust  \n",
       "S138_008_00000009_amazon      joy  \n",
       "S050_006_00000023_amazon      joy  \n",
       "S060_002_00000026_amazon      joy  \n",
       "S151_002_00000029_amazon      joy  "
      ]
     },
     "execution_count": 189,
     "metadata": {},
     "output_type": "execute_result"
    }
   ],
   "source": [
    "# boh = pd.merge(left=compare_df, right=label_df, right_index=True, left_on='img_name', how='left')\n",
    "# boh = ni.merge(label_df, right_index=True, left_on='img_name', how='outer')\n",
    "# boh\n",
    "compare_df_j = compare_df.join(label_df, on='img_name')\n",
    "compare_df_j.rename(columns={'emotion':'real'}, inplace=True)\n",
    "compare_df_j.head()"
   ]
  },
  {
   "cell_type": "code",
   "execution_count": 214,
   "metadata": {},
   "outputs": [
    {
     "data": {
      "text/html": [
       "<div>\n",
       "<style>\n",
       "    .dataframe thead tr:only-child th {\n",
       "        text-align: right;\n",
       "    }\n",
       "\n",
       "    .dataframe thead th {\n",
       "        text-align: left;\n",
       "    }\n",
       "\n",
       "    .dataframe tbody tr th {\n",
       "        vertical-align: top;\n",
       "    }\n",
       "</style>\n",
       "<table border=\"1\" class=\"dataframe\">\n",
       "  <thead>\n",
       "    <tr style=\"text-align: right;\">\n",
       "      <th></th>\n",
       "      <th>img_name</th>\n",
       "      <th>source</th>\n",
       "      <th>computed</th>\n",
       "      <th>confidence</th>\n",
       "      <th>real</th>\n",
       "      <th>correct</th>\n",
       "    </tr>\n",
       "    <tr>\n",
       "      <th>id</th>\n",
       "      <th></th>\n",
       "      <th></th>\n",
       "      <th></th>\n",
       "      <th></th>\n",
       "      <th></th>\n",
       "      <th></th>\n",
       "    </tr>\n",
       "  </thead>\n",
       "  <tbody>\n",
       "    <tr>\n",
       "      <th>S087_004_00000012_amazon</th>\n",
       "      <td>S087_004_00000012</td>\n",
       "      <td>amazon</td>\n",
       "      <td>sadness</td>\n",
       "      <td>3.132832</td>\n",
       "      <td>disgust</td>\n",
       "      <td>False</td>\n",
       "    </tr>\n",
       "    <tr>\n",
       "      <th>S138_008_00000009_amazon</th>\n",
       "      <td>S138_008_00000009</td>\n",
       "      <td>amazon</td>\n",
       "      <td>joy</td>\n",
       "      <td>67.143562</td>\n",
       "      <td>joy</td>\n",
       "      <td>True</td>\n",
       "    </tr>\n",
       "    <tr>\n",
       "      <th>S050_006_00000023_amazon</th>\n",
       "      <td>S050_006_00000023</td>\n",
       "      <td>amazon</td>\n",
       "      <td>joy</td>\n",
       "      <td>99.953857</td>\n",
       "      <td>joy</td>\n",
       "      <td>True</td>\n",
       "    </tr>\n",
       "    <tr>\n",
       "      <th>S060_002_00000026_amazon</th>\n",
       "      <td>S060_002_00000026</td>\n",
       "      <td>amazon</td>\n",
       "      <td>joy</td>\n",
       "      <td>98.946846</td>\n",
       "      <td>joy</td>\n",
       "      <td>True</td>\n",
       "    </tr>\n",
       "    <tr>\n",
       "      <th>S151_002_00000029_amazon</th>\n",
       "      <td>S151_002_00000029</td>\n",
       "      <td>amazon</td>\n",
       "      <td>joy</td>\n",
       "      <td>96.703247</td>\n",
       "      <td>joy</td>\n",
       "      <td>True</td>\n",
       "    </tr>\n",
       "  </tbody>\n",
       "</table>\n",
       "</div>"
      ],
      "text/plain": [
       "                                   img_name  source computed  confidence  \\\n",
       "id                                                                         \n",
       "S087_004_00000012_amazon  S087_004_00000012  amazon  sadness    3.132832   \n",
       "S138_008_00000009_amazon  S138_008_00000009  amazon      joy   67.143562   \n",
       "S050_006_00000023_amazon  S050_006_00000023  amazon      joy   99.953857   \n",
       "S060_002_00000026_amazon  S060_002_00000026  amazon      joy   98.946846   \n",
       "S151_002_00000029_amazon  S151_002_00000029  amazon      joy   96.703247   \n",
       "\n",
       "                             real  correct  \n",
       "id                                          \n",
       "S087_004_00000012_amazon  disgust    False  \n",
       "S138_008_00000009_amazon      joy     True  \n",
       "S050_006_00000023_amazon      joy     True  \n",
       "S060_002_00000026_amazon      joy     True  \n",
       "S151_002_00000029_amazon      joy     True  "
      ]
     },
     "execution_count": 214,
     "metadata": {},
     "output_type": "execute_result"
    }
   ],
   "source": [
    "# check whether computed and emotion are equal\n",
    "compare_df_j['correct'] = compare_df_j.computed == compare_df_j.real\n",
    "compare_df_j.head()"
   ]
  },
  {
   "cell_type": "markdown",
   "metadata": {},
   "source": [
    "## find correct ones"
   ]
  },
  {
   "cell_type": "code",
   "execution_count": 47,
   "metadata": {},
   "outputs": [
    {
     "ename": "NameError",
     "evalue": "name 'compare_df_j' is not defined",
     "output_type": "error",
     "traceback": [
      "\u001b[1;31m---------------------------------------------------------------------------\u001b[0m",
      "\u001b[1;31mNameError\u001b[0m                                 Traceback (most recent call last)",
      "\u001b[1;32m<ipython-input-47-e3cebdc53bf6>\u001b[0m in \u001b[0;36m<module>\u001b[1;34m()\u001b[0m\n\u001b[0;32m      3\u001b[0m \u001b[0mfig\u001b[0m\u001b[1;33m,\u001b[0m \u001b[0maxes\u001b[0m \u001b[1;33m=\u001b[0m \u001b[0mplt\u001b[0m\u001b[1;33m.\u001b[0m\u001b[0msubplots\u001b[0m\u001b[1;33m(\u001b[0m\u001b[1;36m1\u001b[0m\u001b[1;33m,\u001b[0m \u001b[1;36m1\u001b[0m\u001b[1;33m)\u001b[0m\u001b[1;33m\u001b[0m\u001b[0m\n\u001b[0;32m      4\u001b[0m \u001b[0msns\u001b[0m\u001b[1;33m.\u001b[0m\u001b[0mset_style\u001b[0m\u001b[1;33m(\u001b[0m\u001b[1;34m\"whitegrid\"\u001b[0m\u001b[1;33m)\u001b[0m\u001b[1;33m\u001b[0m\u001b[0m\n\u001b[1;32m----> 5\u001b[1;33m \u001b[0m_\u001b[0m \u001b[1;33m=\u001b[0m \u001b[0msns\u001b[0m\u001b[1;33m.\u001b[0m\u001b[0mswarmplot\u001b[0m\u001b[1;33m(\u001b[0m\u001b[0mx\u001b[0m\u001b[1;33m=\u001b[0m\u001b[1;34m'real'\u001b[0m\u001b[1;33m,\u001b[0m \u001b[0my\u001b[0m\u001b[1;33m=\u001b[0m\u001b[1;34m'confidence'\u001b[0m\u001b[1;33m,\u001b[0m \u001b[0mhue\u001b[0m\u001b[1;33m=\u001b[0m\u001b[1;34m'correct'\u001b[0m\u001b[1;33m,\u001b[0m \u001b[0mpalette\u001b[0m\u001b[1;33m=\u001b[0m\u001b[1;34m'Set2'\u001b[0m\u001b[1;33m,\u001b[0m \u001b[0mdata\u001b[0m\u001b[1;33m=\u001b[0m\u001b[0mcompare_df_j\u001b[0m\u001b[1;33m)\u001b[0m\u001b[1;33m\u001b[0m\u001b[0m\n\u001b[0m",
      "\u001b[1;31mNameError\u001b[0m: name 'compare_df_j' is not defined"
     ]
    },
    {
     "data": {
      "image/png": "[encoded data removed]",
      "text/plain": [
       "<matplotlib.figure.Figure at 0xe7062ab550>"
      ]
     },
     "metadata": {},
     "output_type": "display_data"
    }
   ],
   "source": [
    "# fare uno scatterplot e colorare di rosso quegli sbagliati e con valore pari alla confidence\n",
    "# mentre in verde quelli giusti, sempre con il valore della confidence\n",
    "fig, axes = plt.subplots(1, 1)\n",
    "sns.set_style(\"whitegrid\")\n",
    "_ = sns.swarmplot(x='real', y='confidence', hue='correct', palette='Set2', data=compare_df_j)"
   ]
  },
  {
   "cell_type": "code",
   "execution_count": 221,
   "metadata": {},
   "outputs": [
    {
     "name": "stdout",
     "output_type": "stream",
     "text": [
      "There are 12 correct and 2 incorrect emotions\n"
     ]
    }
   ],
   "source": [
    "# count nr of correct ones\n",
    "correct = compare_df_j.loc[compare_df_j.correct == True].shape[0]\n",
    "incorrect = compare_df_j.shape[0] - correct\n",
    "print('There are {} correct and {} incorrect emotions'.format(correct, incorrect))"
   ]
  },
  {
   "cell_type": "markdown",
   "metadata": {},
   "source": [
    "## find the most difficult emotions to predict"
   ]
  },
  {
   "cell_type": "code",
   "execution_count": 251,
   "metadata": {},
   "outputs": [
    {
     "data": {
      "image/png": "[encoded data removed]",
      "text/plain": [
       "<matplotlib.figure.Figure at 0x19b0bcc9c18>"
      ]
     },
     "metadata": {},
     "output_type": "display_data"
    }
   ],
   "source": [
    "# count the nr of real emotions\n",
    "emotions_real = compare_df_j.real.unique()\n",
    "emotions_nr = emotions_real.shape[0]\n",
    "# for each emotion, build the chart\n",
    "fix, axes = plt.subplots(emotions_nr, 1, figsize=(7, 20))\n",
    "# cycle and create all plots\n",
    "for i in range(emotions_nr):\n",
    "    _ = sns.swarmplot(x='source', y='confidence', hue='computed', palette='Set2', data=compare_df_j.loc[compare_df_j.real == emotions_real[i]], ax=axes[i])\n",
    "    _.set_title(emotions_real[i])\n",
    "    _.set_ylim(0,105)\n",
    "plt.subplots_adjust(wspace=.5, hspace=.5)"
   ]
  },
  {
   "cell_type": "markdown",
   "metadata": {},
   "source": [
    "## TRACK EMOTION PROGRESSION FOR A SINGLE API"
   ]
  },
  {
   "cell_type": "code",
   "execution_count": 4,
   "metadata": {
    "collapsed": true
   },
   "outputs": [],
   "source": [
    "api = 'amazon'\n",
    "# get chosen api data\n",
    "api_data = df.loc[df.source == api].sort_values('img_name')"
   ]
  },
  {
   "cell_type": "code",
   "execution_count": 5,
   "metadata": {},
   "outputs": [
    {
     "data": {
      "text/html": [
       "<div>\n",
       "<style>\n",
       "    .dataframe thead tr:only-child th {\n",
       "        text-align: right;\n",
       "    }\n",
       "\n",
       "    .dataframe thead th {\n",
       "        text-align: left;\n",
       "    }\n",
       "\n",
       "    .dataframe tbody tr th {\n",
       "        vertical-align: top;\n",
       "    }\n",
       "</style>\n",
       "<table border=\"1\" class=\"dataframe\">\n",
       "  <thead>\n",
       "    <tr style=\"text-align: right;\">\n",
       "      <th></th>\n",
       "      <th>img_name</th>\n",
       "      <th>source</th>\n",
       "      <th>anger</th>\n",
       "      <th>disgust</th>\n",
       "      <th>fear</th>\n",
       "      <th>joy</th>\n",
       "      <th>neutral</th>\n",
       "      <th>sadness</th>\n",
       "      <th>surprise</th>\n",
       "    </tr>\n",
       "    <tr>\n",
       "      <th>id</th>\n",
       "      <th></th>\n",
       "      <th></th>\n",
       "      <th></th>\n",
       "      <th></th>\n",
       "      <th></th>\n",
       "      <th></th>\n",
       "      <th></th>\n",
       "      <th></th>\n",
       "      <th></th>\n",
       "    </tr>\n",
       "  </thead>\n",
       "  <tbody>\n",
       "    <tr>\n",
       "      <th>S050_006_00000023_amazon</th>\n",
       "      <td>S050_006_00000023</td>\n",
       "      <td>amazon</td>\n",
       "      <td>0.000000</td>\n",
       "      <td>0.0</td>\n",
       "      <td>0.0</td>\n",
       "      <td>99.953857</td>\n",
       "      <td>0.0</td>\n",
       "      <td>0.0</td>\n",
       "      <td>0.000000</td>\n",
       "    </tr>\n",
       "    <tr>\n",
       "      <th>S060_002_00000026_amazon</th>\n",
       "      <td>S060_002_00000026</td>\n",
       "      <td>amazon</td>\n",
       "      <td>0.000000</td>\n",
       "      <td>0.0</td>\n",
       "      <td>0.0</td>\n",
       "      <td>98.946846</td>\n",
       "      <td>0.0</td>\n",
       "      <td>0.0</td>\n",
       "      <td>0.000000</td>\n",
       "    </tr>\n",
       "    <tr>\n",
       "      <th>S077_001_00000028_amazon</th>\n",
       "      <td>S077_001_00000028</td>\n",
       "      <td>amazon</td>\n",
       "      <td>2.991277</td>\n",
       "      <td>0.0</td>\n",
       "      <td>0.0</td>\n",
       "      <td>0.000000</td>\n",
       "      <td>0.0</td>\n",
       "      <td>0.0</td>\n",
       "      <td>91.978363</td>\n",
       "    </tr>\n",
       "  </tbody>\n",
       "</table>\n",
       "</div>"
      ],
      "text/plain": [
       "                                   img_name  source     anger  disgust  fear  \\\n",
       "id                                                                             \n",
       "S050_006_00000023_amazon  S050_006_00000023  amazon  0.000000      0.0   0.0   \n",
       "S060_002_00000026_amazon  S060_002_00000026  amazon  0.000000      0.0   0.0   \n",
       "S077_001_00000028_amazon  S077_001_00000028  amazon  2.991277      0.0   0.0   \n",
       "\n",
       "                                joy  neutral  sadness   surprise  \n",
       "id                                                                \n",
       "S050_006_00000023_amazon  99.953857      0.0      0.0   0.000000  \n",
       "S060_002_00000026_amazon  98.946846      0.0      0.0   0.000000  \n",
       "S077_001_00000028_amazon   0.000000      0.0      0.0  91.978363  "
      ]
     },
     "execution_count": 5,
     "metadata": {},
     "output_type": "execute_result"
    }
   ],
   "source": [
    "api_data.iloc[0:3]"
   ]
  },
  {
   "cell_type": "code",
   "execution_count": 6,
   "metadata": {
    "collapsed": true
   },
   "outputs": [],
   "source": [
    "import logging\n",
    "import multiprocessing\n",
    "from multiprocessing import Process, Lock\n",
    "\n",
    "\n",
    "lock = Lock()\n",
    "\n",
    "def create_logger():\n",
    "    logger = multiprocessing.get_logger()\n",
    "    logger.setLevel(logging.INFO)\n",
    " \n",
    "    fh = logging.FileHandler(\"process.log\")\n",
    " \n",
    "    fmt = '%(asctime)s - %(levelname)s - %(message)s'\n",
    "    formatter = logging.Formatter(fmt)\n",
    "    fh.setFormatter(formatter)\n",
    " \n",
    "    logger.addHandler(fh)\n",
    "    return logger\n",
    " \n",
    "def printer(item):\n",
    "    \"\"\"\n",
    "    Prints out the item that was passed in\n",
    "    \"\"\"\n",
    "    lock.acquire()\n",
    "    try:\n",
    "        print(item)\n",
    "    finally:\n",
    "        lock.release()\n",
    "if __name__ == '__main__':\n",
    "    items = ['tango', 'foxtrot', 10]\n",
    "    logger = create_logger()\n",
    "    for item in items:\n",
    "        p = Process(target=printer, args=(item,))\n",
    "        p.start()"
   ]
  },
  {
   "cell_type": "code",
   "execution_count": 9,
   "metadata": {},
   "outputs": [
    {
     "name": "stdout",
     "output_type": "stream",
     "text": [
      "wui\n"
     ]
    }
   ],
   "source": [
    "from multiprocessing import Process, current_process\n",
    "\n",
    "def doubler(number):\n",
    "    result = number * 2\n",
    "    proc_name = current_process().name\n",
    "    print('{0} doubled to {1} by: {2}'.format(number, result, proc_name))\n",
    "    \n",
    "if __name__ == '__main__':\n",
    "    print('wui')\n",
    "    numbers = [5, 10, 15, 20, 25]\n",
    "    procs = []\n",
    "    proc = Process(target=doubler, args=(5,))\n",
    " \n",
    "    for index, number in enumerate(numbers):\n",
    "        proc = Process(target=doubler, args=(number,))\n",
    "        procs.append(proc)\n",
    "        proc.start()\n",
    " \n",
    "    proc = Process(target=doubler, name='Test', args=(2,))\n",
    "    proc.start()\n",
    "    procs.append(proc)\n",
    " \n",
    "    for proc in procs:\n",
    "        proc.join()"
   ]
  },
  {
   "cell_type": "code",
   "execution_count": null,
   "metadata": {},
   "outputs": [
    {
     "name": "stdout",
     "output_type": "stream",
     "text": [
      "here\n",
      "['S050_006_00000023.png', 'S060_002_00000026.png', 'S077_001_00000028.png', 'S087_004_00000012.png', 'S138_008_00000009.png', 'S151_002_00000029.png', 'S999_003_00000055.png']\n"
     ]
    }
   ],
   "source": [
    "import matplotlib.image as mpimg\n",
    "import matplotlib.gridspec as gridspec\n",
    "import multiprocessing\n",
    "import logging\n",
    "# from itertools import repeat\n",
    "\n",
    "fig = plt.figure(figsize=(15, 6))\n",
    "gs = gridspec.GridSpec(2, 2)\n",
    "ax1 = plt.subplot(gs[:, 0])\n",
    "ax2 = plt.subplot(gs[:-1, 1])\n",
    "ax3 = plt.subplot(gs[-1, 1])\n",
    "\n",
    "img = mpimg.imread('../img/S050_006_00000023.png')\n",
    "\n",
    "img = ax1.imshow(img)\n",
    "chart = ax2.plot(api_data.img_name, api_data.iloc[:, 2:])\n",
    "line, = ax2.plot([0, 0], [0, 100], '--', linewidth=1, color='grey', zorder=2)\n",
    "bar  = ax3.bar(api_data.columns[2:], api_data.iloc[0, 2:])\n",
    "\n",
    "ax2.legend(api_data.iloc[:, 2:].columns, loc=2, bbox_to_anchor=(1.05, 1), borderaxespad=0.)\n",
    "\n",
    "def do_calculation(i):\n",
    "    print('dentro')\n",
    "#     ax1.imshow('../img/' + img)\n",
    "#     line.set_xdata([i, i])\n",
    "#     for i, b in enumerate(bar):\n",
    "#         b.set_height(api_data.iloc[3, 2+i])\n",
    "#     print('done')\n",
    "#     plt.savefig('./video/' + str(i) + '.jpg')\n",
    "    return i\n",
    "\n",
    "def start_process():\n",
    "    print('Starting', multiprocessing.current_process().name)\n",
    "\n",
    "if __name__ == '__main__':\n",
    "    multiprocessing.log_to_stderr(logging.DEBUG)\n",
    "    print('here')\n",
    "    frames = api_data.img_name + '.png'\n",
    "    print(list(frames))\n",
    "#     print(frames.img_name)\n",
    "    pool_size = multiprocessing.cpu_count()\n",
    "    pool = multiprocessing.Pool(\n",
    "        processes=pool_size,\n",
    "        initializer=start_process\n",
    "    )\n",
    "    pool_outputs = pool.map(do_calculation, list(np.arange(frames.shape[0])))\n",
    "    pool.close()  # no more tasks\n",
    "    pool.join()  # wrap up current tasks\n",
    "#     with multiprocessing.Pool(processes = pool_size) as pool:\n",
    "#         print(frames.shape[0], list(frames))\n",
    "#         pool.starmap(do_calculation, zip(np.arange(frames.shape[0]), list(frames)))\n"
   ]
  },
  {
   "cell_type": "code",
   "execution_count": null,
   "metadata": {
    "collapsed": true
   },
   "outputs": [],
   "source": []
  },
  {
   "cell_type": "code",
   "execution_count": null,
   "metadata": {
    "collapsed": true
   },
   "outputs": [],
   "source": [
    "aaa"
   ]
  },
  {
   "cell_type": "code",
   "execution_count": null,
   "metadata": {
    "collapsed": true
   },
   "outputs": [],
   "source": []
  },
  {
   "cell_type": "code",
   "execution_count": null,
   "metadata": {
    "collapsed": true
   },
   "outputs": [],
   "source": []
  }
 ],
 "metadata": {
  "kernelspec": {
   "display_name": "Python 3",
   "language": "python",
   "name": "python3"
  },
  "language_info": {
   "codemirror_mode": {
    "name": "ipython",
    "version": 3
   },
   "file_extension": ".py",
   "mimetype": "text/x-python",
   "name": "python",
   "nbconvert_exporter": "python",
   "pygments_lexer": "ipython3",
   "version": "3.6.3"
  }
 },
 "nbformat": 4,
 "nbformat_minor": 2
}
